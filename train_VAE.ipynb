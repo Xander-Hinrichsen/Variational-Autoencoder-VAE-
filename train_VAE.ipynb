{
 "cells": [
  {
   "cell_type": "code",
   "execution_count": null,
   "metadata": {},
   "outputs": [],
   "source": [
    "import os\n",
    "os.environ['KMP_DUPLICATE_LIB_OK']='True'\n",
    "import torch\n",
    "import torch.nn as nn\n",
    "import torchvision\n",
    "import torchvision.transforms as Tfs\n",
    "import matplotlib.pyplot as plt\n",
    "import torchvision.models as models\n",
    "import numpy as np\n",
    "from PIL import Image"
   ]
  },
  {
   "cell_type": "code",
   "execution_count": null,
   "metadata": {},
   "outputs": [],
   "source": [
    "import wandb\n",
    "wandb.init(project='vae-faces')"
   ]
  },
  {
   "cell_type": "code",
   "execution_count": null,
   "metadata": {},
   "outputs": [],
   "source": [
    "from dataset.facesDataset import DataSet\n",
    "from model.VAE import VAE\n",
    "from ELBOLOSS import ELBOLoss"
   ]
  },
  {
   "cell_type": "code",
   "execution_count": null,
   "metadata": {},
   "outputs": [],
   "source": [
    "ds = DataSet()\n",
    "img, label = ds[-14]\n",
    "plt.imshow(img.permute(1,2,0))"
   ]
  },
  {
   "cell_type": "code",
   "execution_count": null,
   "metadata": {},
   "outputs": [],
   "source": [
    "device = torch.device('cuda' if torch.cuda.is_available() else 'cpu')\n",
    "device"
   ]
  },
  {
   "cell_type": "code",
   "execution_count": null,
   "metadata": {},
   "outputs": [],
   "source": [
    "def print_gpu_mem():\n",
    "    print(f'{(torch.cuda.memory_allocated(device) / (1024**3)):.2f}', '/',\n",
    "         f'{(torch.cuda.get_device_properties(device).total_memory/1024**3):.2f}', 'GBs')"
   ]
  },
  {
   "cell_type": "code",
   "execution_count": null,
   "metadata": {},
   "outputs": [],
   "source": [
    "def print_train_update(xb, preds):\n",
    "    orig = xb[0,:,:,:].view(xb.shape[1], xb.shape[2], xb.shape[3])\n",
    "    guess = preds[0,:,:,:].view(xb.shape[1], xb.shape[2], xb.shape[3])\n",
    "    for i in range(1, xb.shape[0]):\n",
    "      orig = torch.cat((orig, xb[i,:,:,:].view(xb.shape[1], xb.shape[2], xb.shape[3])), dim=1)\n",
    "      guess = torch.cat((guess, preds[i,:,:,:].view(xb.shape[1], xb.shape[2], xb.shape[3])), dim=1)\n",
    "    ##orig.shape/guess.shape = 3,b*height, width\n",
    "    chart = torch.cat((orig,guess), dim=2)\n",
    "    plt.imshow(chart.permute(1,2,0).to('cpu'))\n",
    "    plt.show()\n",
    "    return chart"
   ]
  },
  {
   "cell_type": "code",
   "execution_count": null,
   "metadata": {},
   "outputs": [],
   "source": [
    "def unroll_batch(batch):\n",
    "    rows = []\n",
    "    num_rows = int(batch.shape[0]**(0.5))\n",
    "    num_cols = int(batch.shape[0] / num_rows)\n",
    "    for i in range(num_rows):\n",
    "        for j in range(num_cols):\n",
    "            if j== 0:\n",
    "                rows.append(batch[(i*num_cols),:,:,:].view(batch.shape[1],batch.shape[2],batch.shape[3]))\n",
    "            else:\n",
    "                rows[i] = torch.cat((rows[i], batch[(i*num_cols + j),:,:,:].view(batch.shape[1],batch.shape[2],batch.shape[3])), dim=2)\n",
    "\n",
    "    for i in range(1, len(rows)):\n",
    "        rows[0] = torch.cat((rows[0], rows[i]), dim=1)\n",
    "    return rows[0] \n",
    "        "
   ]
  },
  {
   "cell_type": "code",
   "execution_count": null,
   "metadata": {},
   "outputs": [],
   "source": [
    "unroll_batch(torch.ones(25,3,12,12)).shape"
   ]
  },
  {
   "cell_type": "code",
   "execution_count": null,
   "metadata": {},
   "outputs": [],
   "source": [
    "def train(model, lr, epochs, batch_size, tds,valds, beta):\n",
    "    model.to(device)\n",
    "    tdl = torch.utils.data.DataLoader(tds, batch_size=batch_size, shuffle=True, drop_last=True)\n",
    "    vdl = torch.utils.data.DataLoader(valds, batch_size=batch_size, shuffle=False)\n",
    "    loss_fn = ELBOLoss(beta=beta)\n",
    "    optim = torch.optim.Adam(model.parameters(), lr=lr, weight_decay=1e-4)\n",
    "    sched = torch.optim.lr_scheduler.ReduceLROnPlateau(optim, factor=0.1, patience=3, verbose=True)\n",
    "    for epoch in range(epochs):\n",
    "        losses = []\n",
    "        val_losses = []\n",
    "        for xb, _ in tdl:\n",
    "            model.train()\n",
    "            xb = xb.to(device)\n",
    "            preds, z, logvar, mean, std = model(xb)\n",
    "            \n",
    "            loss = loss_fn(xb, z,logvar,mean,std,preds)\n",
    "            optim.zero_grad()\n",
    "            loss.backward()\n",
    "            torch.nn.utils.clip_grad_value_(model.parameters(), 0.1)\n",
    "            optim.step()\n",
    "            #sched.step()\n",
    "            del(xb); del(preds); del(z); del(logvar); del(mean)\n",
    "            torch.cuda.empty_cache()\n",
    "            losses.append(loss.item())\n",
    "            \n",
    "        with torch.no_grad():\n",
    "            for idx, (vxb, _) in enumerate(vdl):\n",
    "                model.eval()\n",
    "                vxb = vxb.to(device)\n",
    "                vpreds, vz, vlogvar, vmean, vstd = model(vxb)\n",
    "                vloss = loss_fn(vxb, vz,vlogvar,vmean,vstd,vpreds)\n",
    "\n",
    "                if idx == len(vdl) - 1:\n",
    "                  ##print reconstruction validation example\n",
    "                  chart = print_train_update(vxb[0:5,:,:,:], vpreds[0:5,:,:,:])\n",
    "                  ##log the reconstruction examples\n",
    "                  rimg = Image.fromarray(np.array((chart.to('cpu').permute(1,2,0)*255), dtype=np.uint8))\n",
    "                  wandb.log({'recon_images':wandb.Image(rimg)})\n",
    "                  ##create new images\n",
    "                  generated = model.decoder(torch.randn(25,model.z_d).to(device))\n",
    "                  generated = unroll_batch(generated)\n",
    "                  gimg = Image.fromarray(np.array((generated.to('cpu').permute(1,2,0)*255), dtype=np.uint8))\n",
    "                  wandb.log({'generated_images':wandb.Image(gimg)})\n",
    "\n",
    "                del(vxb); del(vpreds); del(vz); del(vlogvar); del(vmean)\n",
    "                val_losses.append(vloss.item())\n",
    "        sched.step(np.mean(val_losses))\n",
    "        print('Epoch', epoch+1, 'Loss', f'{np.mean(losses):.5f}')\n",
    "        print('VLoss', np.mean(val_losses))\n",
    "        wandb.log({\"train_loss_512Latent\": np.mean(losses), \"val_loss_512Latent\": np.mean(val_losses)})\n",
    "        if (epoch + 1 <= 5): \n",
    "            print_gpu_mem()"
   ]
  },
  {
   "cell_type": "code",
   "execution_count": null,
   "metadata": {},
   "outputs": [],
   "source": [
    "tds, valds = torch.utils.data.random_split(ds, [len(ds)-200, 200])"
   ]
  },
  {
   "cell_type": "code",
   "execution_count": null,
   "metadata": {},
   "outputs": [],
   "source": [
    "model = VAE(z_d=512)"
   ]
  },
  {
   "cell_type": "code",
   "execution_count": null,
   "metadata": {},
   "outputs": [],
   "source": [
    "model.z_d"
   ]
  },
  {
   "cell_type": "code",
   "execution_count": null,
   "metadata": {},
   "outputs": [],
   "source": [
    "##hyperparams\n",
    "epochs = 1000\n",
    "batch_size = 1024\n",
    "#lr = 0.001 - batchsize=1024, pretrainedresnet,sgd\n",
    "lr = 0.0001\n",
    "beta = 0.1"
   ]
  },
  {
   "cell_type": "code",
   "execution_count": null,
   "metadata": {},
   "outputs": [],
   "source": [
    "print_gpu_mem()"
   ]
  },
  {
   "cell_type": "code",
   "execution_count": null,
   "metadata": {},
   "outputs": [],
   "source": [
    "train(model, lr, epochs, batch_size, tds, valds, beta)"
   ]
  },
  {
   "cell_type": "code",
   "execution_count": null,
   "metadata": {},
   "outputs": [],
   "source": [
    "img = np.ones((512,512,3), dtype=np.uint8) * 255\n",
    "img = Image.fromarray(img)\n",
    "plt.imshow(img)"
   ]
  },
  {
   "cell_type": "code",
   "execution_count": null,
   "metadata": {},
   "outputs": [],
   "source": [
    "asdf1= torch.ones(1,3,32,32, dtype=torch.float32)\n",
    "asdf2 = torch.zeros(1,3,32,32, dtype=torch.float32)\n",
    "\n",
    "asdf3 = torch.cat((asdf1,asdf2), dim=0)\n",
    "plt.imshow(asdf3.view(3,64,32).permute(1,2,0))"
   ]
  },
  {
   "cell_type": "code",
   "execution_count": null,
   "metadata": {},
   "outputs": [],
   "source": [
    "os.listdir()"
   ]
  },
  {
   "cell_type": "code",
   "execution_count": null,
   "metadata": {},
   "outputs": [],
   "source": [
    "img = Image.fromarray(np.ones((512,512,3), dtype=np.uint8) * 255)\n",
    "img"
   ]
  },
  {
   "cell_type": "code",
   "execution_count": null,
   "metadata": {},
   "outputs": [],
   "source": [
    "np.array(torch.tensor([2.3]), dtype=np.uint8)"
   ]
  },
  {
   "cell_type": "code",
   "execution_count": null,
   "metadata": {},
   "outputs": [],
   "source": []
  }
 ],
 "metadata": {
  "kernelspec": {
   "display_name": "base",
   "language": "python",
   "name": "python3"
  },
  "language_info": {
   "codemirror_mode": {
    "name": "ipython",
    "version": 3
   },
   "file_extension": ".py",
   "mimetype": "text/x-python",
   "name": "python",
   "nbconvert_exporter": "python",
   "pygments_lexer": "ipython3",
   "version": "3.10.9"
  },
  "orig_nbformat": 4
 },
 "nbformat": 4,
 "nbformat_minor": 2
}
